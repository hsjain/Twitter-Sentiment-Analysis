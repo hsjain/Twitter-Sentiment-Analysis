{
 "cells": [
  {
   "cell_type": "code",
   "execution_count": 1,
   "metadata": {},
   "outputs": [],
   "source": [
    "import pandas as pd\n",
    "from nltk.tokenize import word_tokenize\n",
    "from sklearn.metrics import confusion_matrix\n",
    "import seaborn as sns\n",
    "import re\n",
    "import emoji\n",
    "from emoji import UNICODE_EMOJI\n",
    "from collections import defaultdict\n",
    "from nltk.corpus import stopwords\n",
    "stopwords = stopwords.words('english')\n",
    "from sklearn.feature_extraction.text import CountVectorizer\n",
    "from sklearn.linear_model import LogisticRegression\n",
    "from sklearn.model_selection import KFold\n",
    "from sklearn.metrics import accuracy_score, recall_score, precision_score\n",
    "from nltk.stem.snowball import SnowballStemmer\n",
    "stemmer = SnowballStemmer('english')\n",
    "import nltk\n",
    "from nltk.stem import WordNetLemmatizer\n",
    "lemmatizer = WordNetLemmatizer()\n",
    "import numpy as np\n",
    "# nltk.download('wordnet')\n",
    "# import nltk\n",
    "# nltk.download('punkt')\n",
    "# nltk.download(\"stopwords\")"
   ]
  },
  {
   "cell_type": "code",
   "execution_count": 898,
   "metadata": {},
   "outputs": [],
   "source": [
    "df1 = pd.read_csv(\"hsjain_csv1.csv\")\n",
    "df1 = df1.drop(\"Notes\", axis=1)"
   ]
  },
  {
   "cell_type": "code",
   "execution_count": 900,
   "metadata": {},
   "outputs": [
    {
     "name": "stdout",
     "output_type": "stream",
     "text": [
      "[[28  8 12  2]\n",
      " [10 30 10  5]\n",
      " [ 3  8 50 10]\n",
      " [ 5  8 13 48]]\n"
     ]
    }
   ],
   "source": [
    "cm = confusion_matrix(list(df1.Label_A), list(df1.Label_T), labels=[\"appreciation\", \"informative\", \"other\", \"rant\"])\n",
    "print(cm)"
   ]
  },
  {
   "cell_type": "code",
   "execution_count": 901,
   "metadata": {},
   "outputs": [
    {
     "data": {
      "text/plain": [
       "<matplotlib.axes._subplots.AxesSubplot at 0x2896dbd0cd0>"
      ]
     },
     "execution_count": 901,
     "metadata": {},
     "output_type": "execute_result"
    },
    {
     "data": {
      "image/png": "[encoded data removed]",
      "text/plain": [
       "<Figure size 432x288 with 2 Axes>"
      ]
     },
     "metadata": {
      "needs_background": "light"
     },
     "output_type": "display_data"
    }
   ],
   "source": [
    "sns.heatmap(cm, annot=True)"
   ]
  },
  {
   "cell_type": "code",
   "execution_count": 902,
   "metadata": {},
   "outputs": [],
   "source": [
    "def tokenize(text):\n",
    "    text = text.lower()\n",
    "    lst = word_tokenize(text)\n",
    "    \n",
    "    punctuation = ['(', ')', '?', ':', ';', ',', '.', '!', '/', '\"', \"'\", '@', '’']\n",
    "\n",
    "    for i in range(len(lst)):\n",
    "        if lst[i] in punctuation:\n",
    "            lst[i] = lst[i].replace(lst[i], \"\")\n",
    "            \n",
    "    #for emojis stacked up together\n",
    "    for word in lst:\n",
    "        if word.isalnum() == False:\n",
    "            lst.remove(word)\n",
    "            helper = emoji.get_emoji_regexp().split(word)\n",
    "            for h in helper:\n",
    "                if h != '':\n",
    "                    lst.append(h)\n",
    "                    \n",
    "    #to take care of words with weird non-alnum characters between 2 words. For eg is…I’m\n",
    "    for word in lst:\n",
    "        if word.isalnum() == False and word not in UNICODE_EMOJI['en']:\n",
    "            lst.remove(word)\n",
    "            s = re.sub(r'[^a-zA-Z0-9]', ' ', word)\n",
    "            ls = s.split(\" \")\n",
    "            for l in ls:\n",
    "                lst.append(l)\n",
    "            \n",
    "    #Getting rid of extra \"\"\n",
    "    while \"\" in lst:\n",
    "        lst.remove(\"\")\n",
    "        \n",
    "    #Normalization\n",
    "    for i in range(len(lst)):\n",
    "        if lst[i].isalpha():\n",
    "            lst[i] = stemmer.stem(lst[i])\n",
    "    return lst"
   ]
  },
  {
   "cell_type": "code",
   "execution_count": 948,
   "metadata": {},
   "outputs": [],
   "source": [
    "vectorizer = CountVectorizer(stop_words = stopwords, ngram_range = (1,1), tokenizer = tokenize)\n",
    "X = vectorizer.fit_transform(df1.Text)\n",
    "Y = df1.Label"
   ]
  },
  {
   "cell_type": "code",
   "execution_count": 944,
   "metadata": {},
   "outputs": [],
   "source": [
    "clf = LogisticRegression().fit(X, Y)"
   ]
  },
  {
   "cell_type": "code",
   "execution_count": 945,
   "metadata": {},
   "outputs": [
    {
     "data": {
      "text/plain": [
       "0.996"
      ]
     },
     "execution_count": 945,
     "metadata": {},
     "output_type": "execute_result"
    }
   ],
   "source": [
    "clf.score(X, Y)"
   ]
  },
  {
   "cell_type": "code",
   "execution_count": 981,
   "metadata": {},
   "outputs": [
    {
     "name": "stderr",
     "output_type": "stream",
     "text": [
      "C:\\Users\\harsh\\Anaconda3\\lib\\site-packages\\sklearn\\metrics\\_classification.py:1221: UndefinedMetricWarning: Precision is ill-defined and being set to 0.0 in labels with no predicted samples. Use `zero_division` parameter to control this behavior.\n",
      "  _warn_prf(average, modifier, msg_start, len(result))\n"
     ]
    },
    {
     "name": "stdout",
     "output_type": "stream",
     "text": [
      "Incorrectly classified Samples:\n"
     ]
    },
    {
     "data": {
      "text/html": [
       "<div>\n",
       "<style scoped>\n",
       "    .dataframe tbody tr th:only-of-type {\n",
       "        vertical-align: middle;\n",
       "    }\n",
       "\n",
       "    .dataframe tbody tr th {\n",
       "        vertical-align: top;\n",
       "    }\n",
       "\n",
       "    .dataframe thead th {\n",
       "        text-align: right;\n",
       "    }\n",
       "</style>\n",
       "<table border=\"1\" class=\"dataframe\">\n",
       "  <thead>\n",
       "    <tr style=\"text-align: right;\">\n",
       "      <th></th>\n",
       "      <th>Tweet</th>\n",
       "      <th>Actual</th>\n",
       "      <th>Predicted</th>\n",
       "    </tr>\n",
       "  </thead>\n",
       "  <tbody>\n",
       "    <tr>\n",
       "      <th>0</th>\n",
       "      <td>Thank you everyone who joined the stream today...</td>\n",
       "      <td>appreciation</td>\n",
       "      <td>other</td>\n",
       "    </tr>\n",
       "    <tr>\n",
       "      <th>1</th>\n",
       "      <td>Summer in the Netherlands:\\n\\nRain\\nRain\\nRain...</td>\n",
       "      <td>rant</td>\n",
       "      <td>other</td>\n",
       "    </tr>\n",
       "    <tr>\n",
       "      <th>2</th>\n",
       "      <td>so the nct not showering thing was true</td>\n",
       "      <td>informative</td>\n",
       "      <td>rant</td>\n",
       "    </tr>\n",
       "    <tr>\n",
       "      <th>3</th>\n",
       "      <td>zain acting gay on the tl then getting mad whe...</td>\n",
       "      <td>rant</td>\n",
       "      <td>other</td>\n",
       "    </tr>\n",
       "    <tr>\n",
       "      <th>4</th>\n",
       "      <td>Sara Jacobs is good you guys</td>\n",
       "      <td>appreciation</td>\n",
       "      <td>rant</td>\n",
       "    </tr>\n",
       "    <tr>\n",
       "      <th>5</th>\n",
       "      <td>I’m the moisture master.</td>\n",
       "      <td>appreciation</td>\n",
       "      <td>other</td>\n",
       "    </tr>\n",
       "    <tr>\n",
       "      <th>6</th>\n",
       "      <td>Egyptian cotton for who when there’s presles 😂😂</td>\n",
       "      <td>informative</td>\n",
       "      <td>other</td>\n",
       "    </tr>\n",
       "    <tr>\n",
       "      <th>7</th>\n",
       "      <td>Can i have at least one track in their cb albu...</td>\n",
       "      <td>appreciation</td>\n",
       "      <td>other</td>\n",
       "    </tr>\n",
       "    <tr>\n",
       "      <th>8</th>\n",
       "      <td>Demons are just angels with their backs turned</td>\n",
       "      <td>informative</td>\n",
       "      <td>other</td>\n",
       "    </tr>\n",
       "    <tr>\n",
       "      <th>9</th>\n",
       "      <td>Now why she in it?</td>\n",
       "      <td>rant</td>\n",
       "      <td>other</td>\n",
       "    </tr>\n",
       "  </tbody>\n",
       "</table>\n",
       "</div>"
      ],
      "text/plain": [
       "                                               Tweet        Actual Predicted\n",
       "0  Thank you everyone who joined the stream today...  appreciation     other\n",
       "1  Summer in the Netherlands:\\n\\nRain\\nRain\\nRain...          rant     other\n",
       "2            so the nct not showering thing was true   informative      rant\n",
       "3  zain acting gay on the tl then getting mad whe...          rant     other\n",
       "4                       Sara Jacobs is good you guys  appreciation      rant\n",
       "5                           I’m the moisture master.  appreciation     other\n",
       "6    Egyptian cotton for who when there’s presles 😂😂   informative     other\n",
       "7  Can i have at least one track in their cb albu...  appreciation     other\n",
       "8     Demons are just angels with their backs turned   informative     other\n",
       "9                                 Now why she in it?          rant     other"
      ]
     },
     "metadata": {},
     "output_type": "display_data"
    }
   ],
   "source": [
    "accuracy = precision = recall = 0\n",
    "cv = KFold(n_splits=10)\n",
    "count = 0\n",
    "incorrect = []\n",
    "for train_index, test_index in cv.split(X):\n",
    "    X_train, X_test = X[train_index], X[test_index]\n",
    "    y_train, y_test = Y[train_index], Y[test_index]\n",
    "    clf = LogisticRegression()\n",
    "    clf.fit(X_train, y_train)\n",
    "\n",
    "    for i in range(len(y_test)):\n",
    "        if count == 10:\n",
    "            break\n",
    "        elif y_pred[i] != y_test.iloc[i]:\n",
    "            count += 1\n",
    "            incorrect.append((df1.Text.iloc[test_index[i]], y_test.iloc[i], y_pred[i]))           \n",
    "    \n",
    "    y_pred = clf.predict(X_test)\n",
    "    accuracy += accuracy_score(y_test, y_pred)\n",
    "    precision += precision_score(y_test, y_pred, average=None)\n",
    "    recall += recall_score(y_test, y_pred, average=None)\n",
    "    \n",
    "dataframe = pd.DataFrame(incorrect, columns = ['Tweet', 'Actual', 'Predicted'])\n",
    "print(\"Incorrectly classified Samples:\")\n",
    "display(dataframe)"
   ]
  },
  {
   "cell_type": "code",
   "execution_count": 982,
   "metadata": {},
   "outputs": [
    {
     "data": {
      "text/plain": [
       "0.352"
      ]
     },
     "execution_count": 982,
     "metadata": {},
     "output_type": "execute_result"
    }
   ],
   "source": [
    "accuracy/10"
   ]
  },
  {
   "cell_type": "code",
   "execution_count": 983,
   "metadata": {},
   "outputs": [
    {
     "data": {
      "text/plain": [
       "array([0.21666667, 0.28666667, 0.38046492, 0.41501082])"
      ]
     },
     "execution_count": 983,
     "metadata": {},
     "output_type": "execute_result"
    }
   ],
   "source": [
    "precision/10"
   ]
  },
  {
   "cell_type": "code",
   "execution_count": 984,
   "metadata": {},
   "outputs": [
    {
     "data": {
      "text/plain": [
       "array([0.07261905, 0.0902381 , 0.73257937, 0.36711039])"
      ]
     },
     "execution_count": 984,
     "metadata": {},
     "output_type": "execute_result"
    }
   ],
   "source": [
    "recall/10"
   ]
  },
  {
   "cell_type": "code",
   "execution_count": 985,
   "metadata": {},
   "outputs": [],
   "source": [
    "weights = clf.coef_"
   ]
  },
  {
   "cell_type": "code",
   "execution_count": 986,
   "metadata": {},
   "outputs": [
    {
     "data": {
      "text/html": [
       "<div>\n",
       "<style scoped>\n",
       "    .dataframe tbody tr th:only-of-type {\n",
       "        vertical-align: middle;\n",
       "    }\n",
       "\n",
       "    .dataframe tbody tr th {\n",
       "        vertical-align: top;\n",
       "    }\n",
       "\n",
       "    .dataframe thead th {\n",
       "        text-align: right;\n",
       "    }\n",
       "</style>\n",
       "<table border=\"1\" class=\"dataframe\">\n",
       "  <thead>\n",
       "    <tr style=\"text-align: right;\">\n",
       "      <th></th>\n",
       "      <th>appreciation</th>\n",
       "      <th>informative</th>\n",
       "      <th>other</th>\n",
       "      <th>rant</th>\n",
       "    </tr>\n",
       "  </thead>\n",
       "  <tbody>\n",
       "    <tr>\n",
       "      <th>0</th>\n",
       "      <td>cute</td>\n",
       "      <td>angel</td>\n",
       "      <td>last</td>\n",
       "      <td>wtf</td>\n",
       "    </tr>\n",
       "    <tr>\n",
       "      <th>1</th>\n",
       "      <td>good</td>\n",
       "      <td>month</td>\n",
       "      <td>tri</td>\n",
       "      <td>whi</td>\n",
       "    </tr>\n",
       "    <tr>\n",
       "      <th>2</th>\n",
       "      <td>thank</td>\n",
       "      <td>make</td>\n",
       "      <td>lover</td>\n",
       "      <td>liter</td>\n",
       "    </tr>\n",
       "    <tr>\n",
       "      <th>3</th>\n",
       "      <td>ever</td>\n",
       "      <td>ask</td>\n",
       "      <td>mayb</td>\n",
       "      <td>year</td>\n",
       "    </tr>\n",
       "    <tr>\n",
       "      <th>4</th>\n",
       "      <td>✨</td>\n",
       "      <td>halloween</td>\n",
       "      <td>complet</td>\n",
       "      <td>everi</td>\n",
       "    </tr>\n",
       "    <tr>\n",
       "      <th>5</th>\n",
       "      <td>😍</td>\n",
       "      <td>mind</td>\n",
       "      <td>asw</td>\n",
       "      <td>fav</td>\n",
       "    </tr>\n",
       "    <tr>\n",
       "      <th>6</th>\n",
       "      <td>goodmorn</td>\n",
       "      <td>know</td>\n",
       "      <td>emoji</td>\n",
       "      <td>keep</td>\n",
       "    </tr>\n",
       "    <tr>\n",
       "      <th>7</th>\n",
       "      <td>amaz</td>\n",
       "      <td>question</td>\n",
       "      <td>fact</td>\n",
       "      <td>😭</td>\n",
       "    </tr>\n",
       "    <tr>\n",
       "      <th>8</th>\n",
       "      <td>happi</td>\n",
       "      <td>captain</td>\n",
       "      <td>lloooolllllllll</td>\n",
       "      <td>em</td>\n",
       "    </tr>\n",
       "    <tr>\n",
       "      <th>9</th>\n",
       "      <td>god</td>\n",
       "      <td>drew</td>\n",
       "      <td>louder</td>\n",
       "      <td>honest</td>\n",
       "    </tr>\n",
       "  </tbody>\n",
       "</table>\n",
       "</div>"
      ],
      "text/plain": [
       "  appreciation informative            other    rant\n",
       "0         cute       angel             last     wtf\n",
       "1         good       month              tri     whi\n",
       "2        thank        make            lover   liter\n",
       "3         ever         ask             mayb    year\n",
       "4            ✨   halloween          complet   everi\n",
       "5            😍        mind              asw     fav\n",
       "6     goodmorn        know            emoji    keep\n",
       "7         amaz    question             fact       😭\n",
       "8        happi     captain  lloooolllllllll      em\n",
       "9          god        drew           louder  honest"
      ]
     },
     "execution_count": 986,
     "metadata": {},
     "output_type": "execute_result"
    }
   ],
   "source": [
    "answer = []\n",
    "top_10 = []\n",
    "for i in range(len(weights)):\n",
    "    answer.append(sorted(range(len(weights[i])), key=lambda j: weights[i][j], reverse=True)[:10])\n",
    "\n",
    "for ans in answer:\n",
    "    lsttt = []\n",
    "    for index in ans:\n",
    "        lsttt.append(vectorizer.get_feature_names()[index])\n",
    "    top_10.append(lsttt)\n",
    "\n",
    "column_names = np.unique(df1['Label'])\n",
    "df = pd.DataFrame(columns = column_names)\n",
    "count = 0\n",
    "for top in top_10:\n",
    "    df[df.columns[count]] = top\n",
    "    count += 1\n",
    "df"
   ]
  },
  {
   "cell_type": "code",
   "execution_count": null,
   "metadata": {},
   "outputs": [],
   "source": []
  },
  {
   "cell_type": "code",
   "execution_count": null,
   "metadata": {},
   "outputs": [],
   "source": []
  },
  {
   "cell_type": "code",
   "execution_count": null,
   "metadata": {},
   "outputs": [],
   "source": []
  }
 ],
 "metadata": {
  "kernelspec": {
   "display_name": "Python 3",
   "language": "python",
   "name": "python3"
  },
  "language_info": {
   "codemirror_mode": {
    "name": "ipython",
    "version": 3
   },
   "file_extension": ".py",
   "mimetype": "text/x-python",
   "name": "python",
   "nbconvert_exporter": "python",
   "pygments_lexer": "ipython3",
   "version": "3.8.3"
  }
 },
 "nbformat": 4,
 "nbformat_minor": 4
}
